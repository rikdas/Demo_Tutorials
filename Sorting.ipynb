{
  "nbformat": 4,
  "nbformat_minor": 0,
  "metadata": {
    "colab": {
      "name": "Sorting.ipynb",
      "provenance": [],
      "authorship_tag": "ABX9TyMyYvt9Jn3ajR8SB1MxB2Uh",
      "include_colab_link": true
    },
    "kernelspec": {
      "name": "python3",
      "display_name": "Python 3"
    }
  },
  "cells": [
    {
      "cell_type": "markdown",
      "metadata": {
        "id": "view-in-github",
        "colab_type": "text"
      },
      "source": [
        "<a href=\"https://colab.research.google.com/github/rikdas/Demo_Tutorials/blob/master/Sorting.ipynb\" target=\"_parent\"><img src=\"https://colab.research.google.com/assets/colab-badge.svg\" alt=\"Open In Colab\"/></a>"
      ]
    },
    {
      "cell_type": "markdown",
      "metadata": {
        "id": "jEeqG-8jrslD",
        "colab_type": "text"
      },
      "source": [
        "# Sorting : **Sorting is used to arrange items in list, tuples dictionaries in order. **"
      ]
    },
    {
      "cell_type": "markdown",
      "metadata": {
        "id": "_Lc-nIkEsRly",
        "colab_type": "text"
      },
      "source": [
        "**Sorting the List**"
      ]
    },
    {
      "cell_type": "code",
      "metadata": {
        "id": "2U1MDT8JsZOK",
        "colab_type": "code",
        "colab": {
          "base_uri": "https://localhost:8080/",
          "height": 85
        },
        "outputId": "fdb8fd7f-ca9e-4d6d-94c8-fc0347d7c900"
      },
      "source": [
        "l = [ 7, 2, 10, 1, 19, 12] #declaring a list\n",
        "print ('The declared list :', l)\n",
        "sorted_list = sorted(l) #applying the function sorted will sort list in ascending order by default\n",
        "print('list after sorting :', sorted_list)\n",
        "\n",
        "print('actual declared list :', l)\n",
        "\n",
        "\n",
        "sorted_list = sorted(l, reverse=True) # sorting list in decending order \n",
        "print('Sorted_Decendinging_Order List :' , l)"
      ],
      "execution_count": 7,
      "outputs": [
        {
          "output_type": "stream",
          "text": [
            "The declared list : [7, 2, 10, 1, 19, 12]\n",
            "list after sorting : [1, 2, 7, 10, 12, 19]\n",
            "actual declared list : [7, 2, 10, 1, 19, 12]\n",
            "Sorted_Decendinging_Order List : [7, 2, 10, 1, 19, 12]\n"
          ],
          "name": "stdout"
        }
      ]
    },
    {
      "cell_type": "markdown",
      "metadata": {
        "id": "PcI4iH5Cuxex",
        "colab_type": "text"
      },
      "source": [
        "**Sorting the Tuple**"
      ]
    },
    {
      "cell_type": "code",
      "metadata": {
        "id": "guv3dYZ0u8Sf",
        "colab_type": "code",
        "colab": {
          "base_uri": "https://localhost:8080/",
          "height": 85
        },
        "outputId": "cb3b4b6e-ee0e-43be-ca41-7db246e52433"
      },
      "source": [
        "t = (1, 5, 3, 4, 7, 9) # observe the () braces in which elements of tuples are declared. They are different to that of lists having [] braces \n",
        "print('Declared tupple :\\t', t)\n",
        "sorted_t = sorted(t) # Sorting the tuple returns a list and not a tupple. Sorting is in ascending order by default. You may observe the [] braces on both sides of declared elements after sorting the tuple which was declared with () braces\n",
        "print('Sorted in ascending order :\\t', sorted_t)\n"
      ],
      "execution_count": 10,
      "outputs": [
        {
          "output_type": "stream",
          "text": [
            "Declared tupple :\t (1, 5, 3, 4, 7, 9)\n",
            "Sorted in ascending order :\t [1, 3, 4, 5, 7, 9]\n",
            "actual declared tuple : (1, 5, 3, 4, 7, 9)\n",
            "Sorted in descending order : (1, 5, 3, 4, 7, 9)\n"
          ],
          "name": "stdout"
        }
      ]
    },
    {
      "cell_type": "code",
      "metadata": {
        "id": "FNx_H8SFw5hx",
        "colab_type": "code",
        "colab": {
          "base_uri": "https://localhost:8080/",
          "height": 51
        },
        "outputId": "a16c7faf-17c7-4c80-b115-69f63fb68035"
      },
      "source": [
        "tup = (10, -9, 19, -20, 30, 40)\n",
        "print ('Declared Tuple: ', tup)\n",
        "sorted_tup = sorted(tup, key = abs) # sorting with absolute values ignoring the +/- signs of the elements of tuple\n",
        "print('Sorting with absoulte values:', sorted_tup)\n"
      ],
      "execution_count": 14,
      "outputs": [
        {
          "output_type": "stream",
          "text": [
            "Declared Tuple:  (10, -9, 19, -20, 30, 40)\n",
            "Sorting with absoulte values: [-9, 10, 19, -20, 30, 40]\n"
          ],
          "name": "stdout"
        }
      ]
    },
    {
      "cell_type": "markdown",
      "metadata": {
        "id": "pHRL1cR0yLDh",
        "colab_type": "text"
      },
      "source": [
        "**Zip Function**"
      ]
    },
    {
      "cell_type": "code",
      "metadata": {
        "id": "SddixtueywRo",
        "colab_type": "code",
        "colab": {
          "base_uri": "https://localhost:8080/",
          "height": 51
        },
        "outputId": "d177602b-f3bf-46ef-d7e3-5b4dd7ef68b7"
      },
      "source": [
        "first_name = ['Saloni' , 'Tanmoy']\n",
        "last_name = ['Sen' , 'Roy']\n",
        "name = zip(first_name,last_name) # applying zip function to concatenate first_name and last_name\n",
        "print(type(name)) # printing the datatype\n",
        "print(list (zip(first_name,last_name))) "
      ],
      "execution_count": 17,
      "outputs": [
        {
          "output_type": "stream",
          "text": [
            "<class 'zip'>\n",
            "[('Saloni', 'Sen'), ('Tanmoy', 'Roy')]\n"
          ],
          "name": "stdout"
        }
      ]
    },
    {
      "cell_type": "markdown",
      "metadata": {
        "id": "AR3lFjey0q85",
        "colab_type": "text"
      },
      "source": [
        "**Sorting the Dictionary**"
      ]
    },
    {
      "cell_type": "code",
      "metadata": {
        "id": "oyL5pJ-m1iCI",
        "colab_type": "code",
        "colab": {
          "base_uri": "https://localhost:8080/",
          "height": 119
        },
        "outputId": "f217b518-021f-4acc-caed-b4322395dff4"
      },
      "source": [
        "d = {'m' : 2 , 'p' : 4 ,'n' : 5, 'o' : 3}\n",
        "print(d.keys()) # List of Keys\n",
        "print(d.values()) #List of values\n",
        "print('Sorting with Keys :', sorted(zip(d.keys(),d.values()))) # Sorting is done on keys\n",
        "\n",
        "print('Sorting with Values :', sorted(zip(d.values(),d.keys()))) # Sorting is done with Values\n",
        "print('Printing maximum value in dictionary :', max(zip(d.keys(),d.values()))) # Prints the max value\n",
        "print('Printing minimum value in dictionary :', min(zip(d.keys(),d.values()))) # Prints the min value"
      ],
      "execution_count": 30,
      "outputs": [
        {
          "output_type": "stream",
          "text": [
            "dict_keys(['m', 'p', 'n', 'o'])\n",
            "dict_values([2, 4, 5, 3])\n",
            "Sorting with Keys : [('m', 2), ('n', 5), ('o', 3), ('p', 4)]\n",
            "Sorting with Values : [(2, 'm'), (3, 'o'), (4, 'p'), (5, 'n')]\n",
            "Printing maximum value in dictionary : ('p', 4)\n",
            "Printing minimum value in dictionary : ('m', 2)\n"
          ],
          "name": "stdout"
        }
      ]
    }
  ]
}