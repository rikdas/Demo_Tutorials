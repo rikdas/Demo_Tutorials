{
  "nbformat": 4,
  "nbformat_minor": 0,
  "metadata": {
    "colab": {
      "name": "for Loop",
      "provenance": [],
      "authorship_tag": "ABX9TyO0UaybGCEZfwJ6iE3ucHFD",
      "include_colab_link": true
    },
    "kernelspec": {
      "name": "python3",
      "display_name": "Python 3"
    }
  },
  "cells": [
    {
      "cell_type": "markdown",
      "metadata": {
        "id": "view-in-github",
        "colab_type": "text"
      },
      "source": [
        "<a href=\"https://colab.research.google.com/github/rikdas/Demo_Tutorials/blob/master/for_Loop.ipynb\" target=\"_parent\"><img src=\"https://colab.research.google.com/assets/colab-badge.svg\" alt=\"Open In Colab\"/></a>"
      ]
    },
    {
      "cell_type": "markdown",
      "metadata": {
        "id": "WKPVXGFmbrnf",
        "colab_type": "text"
      },
      "source": [
        "**for Loop**\n",
        "It is used to carry out iteration in Python. It iterates through different objects which include lists, strings, tuples as well as on key-value pairs of dictionaries."
      ]
    },
    {
      "cell_type": "code",
      "metadata": {
        "id": "d59KGfZVbyF6",
        "colab_type": "code",
        "colab": {}
      },
      "source": [
        "l = [5, 6, 7, 2, 4, 1, 11, 12]"
      ],
      "execution_count": 0,
      "outputs": []
    },
    {
      "cell_type": "code",
      "metadata": {
        "id": "z815RwjTcvac",
        "colab_type": "code",
        "colab": {
          "base_uri": "https://localhost:8080/",
          "height": 153
        },
        "outputId": "9d47f46a-b6f4-4844-f494-74429f27baa9"
      },
      "source": [
        "for n in l:\n",
        "  print(n)"
      ],
      "execution_count": 4,
      "outputs": [
        {
          "output_type": "stream",
          "text": [
            "5\n",
            "6\n",
            "7\n",
            "2\n",
            "4\n",
            "1\n",
            "11\n",
            "12\n"
          ],
          "name": "stdout"
        }
      ]
    },
    {
      "cell_type": "markdown",
      "metadata": {
        "id": "nEO4gY8vdUka",
        "colab_type": "text"
      },
      "source": [
        "**Modulo**\n",
        "This operator is providing us with the remainder of a division"
      ]
    },
    {
      "cell_type": "code",
      "metadata": {
        "id": "oCzelEBvdf3U",
        "colab_type": "code",
        "colab": {
          "base_uri": "https://localhost:8080/",
          "height": 34
        },
        "outputId": "aa6f7a21-b7bb-45a5-bc63-2e866c92f721"
      },
      "source": [
        "19 % 5"
      ],
      "execution_count": 5,
      "outputs": [
        {
          "output_type": "execute_result",
          "data": {
            "text/plain": [
              "4"
            ]
          },
          "metadata": {
            "tags": []
          },
          "execution_count": 5
        }
      ]
    },
    {
      "cell_type": "code",
      "metadata": {
        "id": "Y0A0Bye6dsnK",
        "colab_type": "code",
        "colab": {
          "base_uri": "https://localhost:8080/",
          "height": 68
        },
        "outputId": "d8c3b424-03c3-40f5-ca25-7eee8e5f7df2"
      },
      "source": [
        "print(l)\n",
        "for n in l:\n",
        "  if n % 3 == 0:\n",
        "    print(n)"
      ],
      "execution_count": 6,
      "outputs": [
        {
          "output_type": "stream",
          "text": [
            "[5, 6, 7, 2, 4, 1, 11, 12]\n",
            "6\n",
            "12\n"
          ],
          "name": "stdout"
        }
      ]
    },
    {
      "cell_type": "code",
      "metadata": {
        "id": "c-i-K9dzePEg",
        "colab_type": "code",
        "colab": {
          "base_uri": "https://localhost:8080/",
          "height": 153
        },
        "outputId": "d2571ff9-18f8-4627-beac-22a3475e2936"
      },
      "source": [
        "for n in l:\n",
        "  if n % 2 ==0:\n",
        "    print(n)\n",
        "  else:\n",
        "    print('odd number')"
      ],
      "execution_count": 7,
      "outputs": [
        {
          "output_type": "stream",
          "text": [
            "odd number\n",
            "6\n",
            "odd number\n",
            "2\n",
            "4\n",
            "odd number\n",
            "odd number\n",
            "12\n"
          ],
          "name": "stdout"
        }
      ]
    }
  ]
}